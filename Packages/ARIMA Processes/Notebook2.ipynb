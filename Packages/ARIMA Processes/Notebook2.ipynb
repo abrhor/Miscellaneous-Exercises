import numpy as np
from statsmodels.tsa import arima_model
from statsmodels.tsa.arima_process import arma_generate_sample
y = arma_generate_sample([1], [1], 100)

model = arima_model.ARMA(y, (1,1))
from statsmpdel.graphics.tsaplots import plot_acf

from statsmodels.graphics.tsaplots import plot_acf
import matplotlib.pyplot as plt
import seaborn as sns
plot_acf(y)
plt.show()

def gen_process(p, n=100):
  r = np.random.randn(1,p) + 1
  ar = ar + np.random.normal(2., 1.5, len(ar))
  x = np.random.normal(loc=50., scale=12., size=n)
  return x  
