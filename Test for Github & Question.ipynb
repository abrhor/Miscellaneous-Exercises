{
 "cells": [
  {
   "cell_type": "code",
   "execution_count": 1,
   "metadata": {
    "collapsed": true
   },
   "outputs": [],
   "source": [
    "\"\"\"This is a test for Github, thus the title\"\"\"\n",
    "x = 5\n",
    "y = 2"
   ]
  },
  {
   "cell_type": "code",
   "execution_count": 2,
   "metadata": {
    "collapsed": false
   },
   "outputs": [
    {
     "name": "stdout",
     "output_type": "stream",
     "text": [
      "0 0\n",
      "1 1\n"
     ]
    }
   ],
   "source": [
    "\"\"\"However, so this is not a meaningless post, check out the following:\"\"\"\n",
    "for i, j in zip(range(x), range(y)):\n",
    "    print(i, j)"
   ]
  },
  {
   "cell_type": "code",
   "execution_count": 3,
   "metadata": {
    "collapsed": false
   },
   "outputs": [
    {
     "data": {
      "text/plain": [
       "'\\nI just realized the question I potentially had does not exist, \\nbecause this code does in fact run as I would expect\\nIt prints out every pair in a set of tuples with two copies of each \\nnumber in the range of 0 to 1. It stops at 1 because zip(arg1, arg2) \\nbreaks when it reaches the end of one of the iterables.\\n\\n'"
      ]
     },
     "execution_count": 3,
     "metadata": {},
     "output_type": "execute_result"
    }
   ],
   "source": [
    "\"\"\"\n",
    "I just realized the question I potentially had does not exist, \n",
    "because this code does in fact run as I would expect\n",
    "It prints out every pair in a set of tuples with two copies of each \n",
    "number in the range of 0 to 1. It stops at 1 because zip(arg1, arg2) \n",
    "breaks when it reaches the end of one of the iterables.\n",
    "\n",
    "\"\"\""
   ]
  }
 ],
 "metadata": {
  "anaconda-cloud": {},
  "kernelspec": {
   "display_name": "Python [default]",
   "language": "python",
   "name": "python3"
  },
  "language_info": {
   "codemirror_mode": {
    "name": "ipython",
    "version": 3
   },
   "file_extension": ".py",
   "mimetype": "text/x-python",
   "name": "python",
   "nbconvert_exporter": "python",
   "pygments_lexer": "ipython3",
   "version": "3.5.2"
  }
 },
 "nbformat": 4,
 "nbformat_minor": 1
}
